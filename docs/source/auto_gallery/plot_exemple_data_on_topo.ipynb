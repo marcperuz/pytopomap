{
  "cells": [
    {
      "cell_type": "markdown",
      "metadata": {},
      "source": [
        "\n# plot: plot_data_on_topo\n\nplot_data_on_topo example:\n"
      ]
    },
    {
      "cell_type": "code",
      "execution_count": null,
      "metadata": {
        "collapsed": false
      },
      "outputs": [],
      "source": [
        "import matplotlib.pyplot as plt\n\nfrom pytopomap.tools import read_tiff\n\nfrom pytopomap.plot import plot_data_on_topo\n\nurl_topo = r\"https://raw.githubusercontent.com/marcperuz/pytopomap/main/data/z.tif\"\nurl_data = r\"https://raw.githubusercontent.com/marcperuz/pytopomap/main/data/h_deposits.tif\"\n\nx, y, z = read_tiff(url_topo)\nx, y, data = read_tiff(url_data)\n\naxe = plot_data_on_topo(x, y, z, data, minval_abs=0.1)\n\nplt.show()"
      ]
    }
  ],
  "metadata": {
    "kernelspec": {
      "display_name": "Python 3",
      "language": "python",
      "name": "python3"
    },
    "language_info": {
      "codemirror_mode": {
        "name": "ipython",
        "version": 3
      },
      "file_extension": ".py",
      "mimetype": "text/x-python",
      "name": "python",
      "nbconvert_exporter": "python",
      "pygments_lexer": "ipython3",
      "version": "3.12.10"
    }
  },
  "nbformat": 4,
  "nbformat_minor": 0
}